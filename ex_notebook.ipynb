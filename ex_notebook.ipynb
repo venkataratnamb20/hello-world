#sample python code
print("Welcome to Jupyter notebook")
print("Venkata Ratnam Bhumireddy")
